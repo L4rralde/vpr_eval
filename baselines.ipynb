{
 "cells": [
  {
   "cell_type": "code",
   "execution_count": 3,
   "id": "ba3f5d4d-15a7-45e3-9807-4d9aafd9a94e",
   "metadata": {},
   "outputs": [],
   "source": [
    "from eval import model_eval\n",
    "from vpr import models\n",
    "\n",
    "val_datasets = ['pitts30k_test', 'pitts250k_test', 'Nordland', 'SPED'] "
   ]
  },
  {
   "cell_type": "markdown",
   "id": "f781b928-57bb-4372-bbd3-3688a8dae4ed",
   "metadata": {},
   "source": [
    "## MegaLoc SoTA"
   ]
  },
  {
   "cell_type": "code",
   "execution_count": 4,
   "id": "634f3355-a058-4a49-a5fd-e484afa15089",
   "metadata": {},
   "outputs": [
    {
     "name": "stderr",
     "output_type": "stream",
     "text": [
      "Using cache found in /home/emmanuel/.cache/torch/hub/gmberton_MegaLoc_main\n",
      "Using cache found in /home/emmanuel/.cache/torch/hub/facebookresearch_dinov2_main\n",
      "/home/emmanuel/.cache/torch/hub/facebookresearch_dinov2_main/dinov2/layers/swiglu_ffn.py:43: UserWarning: xFormers is available (SwiGLU)\n",
      "  warnings.warn(\"xFormers is available (SwiGLU)\")\n",
      "/home/emmanuel/.cache/torch/hub/facebookresearch_dinov2_main/dinov2/layers/attention.py:27: UserWarning: xFormers is available (Attention)\n",
      "  warnings.warn(\"xFormers is available (Attention)\")\n",
      "/home/emmanuel/.cache/torch/hub/facebookresearch_dinov2_main/dinov2/layers/block.py:33: UserWarning: xFormers is available (Block)\n",
      "  warnings.warn(\"xFormers is available (Block)\")\n"
     ]
    }
   ],
   "source": [
    "megaloc = models.MegaLoc()"
   ]
  },
  {
   "cell_type": "code",
   "execution_count": 6,
   "id": "70b7a2ec-cd9d-45e3-a185-d1ff4eea091a",
   "metadata": {},
   "outputs": [
    {
     "name": "stdout",
     "output_type": "stream",
     "text": [
      "----------------------------------------------------------------------------------------------------\n",
      "322\n"
     ]
    },
    {
     "name": "stderr",
     "output_type": "stream",
     "text": [
      "Calculating descritptors...: 100%|██████████████████████████████████████████████████████████████████████████████████████████████████| 526/526 [01:15<00:00,  7.01it/s]\n",
      "/home/emmanuel/miniconda3/envs/salad_3/lib/python3.10/site-packages/faiss/contrib/torch_utils.py:51: UserWarning: TypedStorage is deprecated. It will be removed in the future and UntypedStorage will be the only storage class. This should only matter to you if you are using storages directly.  To access UntypedStorage directly, use tensor.untyped_storage() instead of tensor.storage()\n",
      "  x.storage().data_ptr() + x.storage_offset() * 4)\n"
     ]
    },
    {
     "name": "stdout",
     "output_type": "stream",
     "text": [
      "\n",
      "+----------------------------------------------------------+\n",
      "|              Performances on pitts30k_test               |\n",
      "+----------+-------+-------+-------+-------+-------+-------+\n",
      "|    K     |   1   |   5   |   10  |   15  |   20  |   25  |\n",
      "+----------+-------+-------+-------+-------+-------+-------+\n",
      "| Recall@K | 94.09 | 97.36 | 98.27 | 98.69 | 98.90 | 99.03 |\n",
      "+----------+-------+-------+-------+-------+-------+-------+\n"
     ]
    },
    {
     "name": "stderr",
     "output_type": "stream",
     "text": [
      "Calculating descritptors...: 100%|████████████████████████████████████████████████████████████████████████████████████████████████| 2883/2883 [10:31<00:00,  4.56it/s]\n"
     ]
    },
    {
     "name": "stdout",
     "output_type": "stream",
     "text": [
      "\n",
      "+----------------------------------------------------------+\n",
      "|              Performances on pitts250k_test              |\n",
      "+----------+-------+-------+-------+-------+-------+-------+\n",
      "|    K     |   1   |   5   |   10  |   15  |   20  |   25  |\n",
      "+----------+-------+-------+-------+-------+-------+-------+\n",
      "| Recall@K | 96.40 | 98.90 | 99.36 | 99.58 | 99.66 | 99.73 |\n",
      "+----------+-------+-------+-------+-------+-------+-------+\n"
     ]
    },
    {
     "name": "stderr",
     "output_type": "stream",
     "text": [
      "Calculating descritptors...: 100%|██████████████████████████████████████████████████████████████████████████████████████████████████| 949/949 [05:49<00:00,  2.72it/s]\n"
     ]
    },
    {
     "name": "stdout",
     "output_type": "stream",
     "text": [
      "\n",
      "+----------------------------------------------------------+\n",
      "|                 Performances on Nordland                 |\n",
      "+----------+-------+-------+-------+-------+-------+-------+\n",
      "|    K     |   1   |   5   |   10  |   15  |   20  |   25  |\n",
      "+----------+-------+-------+-------+-------+-------+-------+\n",
      "| Recall@K | 86.70 | 94.78 | 96.12 | 96.70 | 97.21 | 97.61 |\n",
      "+----------+-------+-------+-------+-------+-------+-------+\n"
     ]
    },
    {
     "name": "stderr",
     "output_type": "stream",
     "text": [
      "Calculating descritptors...: 100%|████████████████████████████████████████████████████████████████████████████████████████████████████| 38/38 [00:20<00:00,  1.90it/s]\n"
     ]
    },
    {
     "name": "stdout",
     "output_type": "stream",
     "text": [
      "\n",
      "+----------------------------------------------------------+\n",
      "|                   Performances on SPED                   |\n",
      "+----------+-------+-------+-------+-------+-------+-------+\n",
      "|    K     |   1   |   5   |   10  |   15  |   20  |   25  |\n",
      "+----------+-------+-------+-------+-------+-------+-------+\n",
      "| Recall@K | 90.28 | 95.22 | 96.38 | 97.20 | 97.20 | 97.36 |\n",
      "+----------+-------+-------+-------+-------+-------+-------+\n"
     ]
    },
    {
     "data": {
      "text/plain": [
       "{'pitts30k_test': {1: 0.9408744131455399,\n",
       "  5: 0.9735915492957746,\n",
       "  10: 0.98268779342723,\n",
       "  15: 0.9869424882629108,\n",
       "  20: 0.9889964788732394,\n",
       "  25: 0.9903169014084507},\n",
       " 'pitts250k_test': {1: 0.9640096618357488,\n",
       "  5: 0.9890096618357488,\n",
       "  10: 0.9935990338164251,\n",
       "  15: 0.9957729468599034,\n",
       "  20: 0.9966183574879227,\n",
       "  25: 0.9973429951690821},\n",
       " 'Nordland': {1: 0.8670289855072464,\n",
       "  5: 0.9478260869565217,\n",
       "  10: 0.961231884057971,\n",
       "  15: 0.9670289855072464,\n",
       "  20: 0.9721014492753624,\n",
       "  25: 0.9760869565217392},\n",
       " 'SPED': {1: 0.9028006589785832,\n",
       "  5: 0.9522240527182867,\n",
       "  10: 0.9637561779242174,\n",
       "  15: 0.9719934102141681,\n",
       "  20: 0.9719934102141681,\n",
       "  25: 0.9736408566721582}}"
      ]
     },
     "execution_count": 6,
     "metadata": {},
     "output_type": "execute_result"
    }
   ],
   "source": [
    "model_eval(\n",
    "    megaloc,\n",
    "    img_size = 322,\n",
    "    mean_std = 'imagenet',\n",
    "    crop = False,\n",
    "    val_datasets = val_datasets,\n",
    "    verbose = False\n",
    ")"
   ]
  },
  {
   "cell_type": "markdown",
   "id": "60ceeb97-a379-4b15-a51d-806ad84a7533",
   "metadata": {},
   "source": [
    "## DINOv2 + SALAD"
   ]
  },
  {
   "cell_type": "code",
   "execution_count": 7,
   "id": "24bfda73-1264-4b77-a367-9f2ef1851d77",
   "metadata": {},
   "outputs": [
    {
     "name": "stderr",
     "output_type": "stream",
     "text": [
      "Using cache found in /home/emmanuel/.cache/torch/hub/facebookresearch_dinov2_main\n"
     ]
    },
    {
     "name": "stdout",
     "output_type": "stream",
     "text": [
      "Loaded model from /home/emmanuel/Desktop/crocodl_challenge/experiments/dino/salad_results/weights/dino_salad.ckpt Successfully!\n"
     ]
    }
   ],
   "source": [
    "dino_salad = models.DinoSalad()"
   ]
  },
  {
   "cell_type": "code",
   "execution_count": 9,
   "id": "70f443ae-8168-4543-9f10-9469e71447b8",
   "metadata": {},
   "outputs": [
    {
     "name": "stdout",
     "output_type": "stream",
     "text": [
      "----------------------------------------------------------------------------------------------------\n",
      "322\n"
     ]
    },
    {
     "name": "stderr",
     "output_type": "stream",
     "text": [
      "Calculating descritptors...: 100%|██████████████████████████████████████████████████████████████████████████████████████████████████| 526/526 [02:15<00:00,  3.87it/s]\n"
     ]
    },
    {
     "name": "stdout",
     "output_type": "stream",
     "text": [
      "\n",
      "+----------------------------------------------------------+\n",
      "|              Performances on pitts30k_test               |\n",
      "+----------+-------+-------+-------+-------+-------+-------+\n",
      "|    K     |   1   |   5   |   10  |   15  |   20  |   25  |\n",
      "+----------+-------+-------+-------+-------+-------+-------+\n",
      "| Recall@K | 92.37 | 96.32 | 97.37 | 97.78 | 98.06 | 98.39 |\n",
      "+----------+-------+-------+-------+-------+-------+-------+\n"
     ]
    },
    {
     "name": "stderr",
     "output_type": "stream",
     "text": [
      "Calculating descritptors...: 100%|████████████████████████████████████████████████████████████████████████████████████████████████| 2883/2883 [06:51<00:00,  7.00it/s]\n"
     ]
    },
    {
     "name": "stdout",
     "output_type": "stream",
     "text": [
      "\n",
      "+----------------------------------------------------------+\n",
      "|              Performances on pitts250k_test              |\n",
      "+----------+-------+-------+-------+-------+-------+-------+\n",
      "|    K     |   1   |   5   |   10  |   15  |   20  |   25  |\n",
      "+----------+-------+-------+-------+-------+-------+-------+\n",
      "| Recall@K | 95.10 | 98.59 | 99.18 | 99.42 | 99.54 | 99.65 |\n",
      "+----------+-------+-------+-------+-------+-------+-------+\n"
     ]
    },
    {
     "name": "stderr",
     "output_type": "stream",
     "text": [
      "Calculating descritptors...: 100%|██████████████████████████████████████████████████████████████████████████████████████████████████| 949/949 [02:01<00:00,  7.81it/s]\n"
     ]
    },
    {
     "name": "stdout",
     "output_type": "stream",
     "text": [
      "\n",
      "+----------------------------------------------------------+\n",
      "|                 Performances on Nordland                 |\n",
      "+----------+-------+-------+-------+-------+-------+-------+\n",
      "|    K     |   1   |   5   |   10  |   15  |   20  |   25  |\n",
      "+----------+-------+-------+-------+-------+-------+-------+\n",
      "| Recall@K | 76.52 | 89.31 | 91.99 | 93.48 | 94.31 | 94.78 |\n",
      "+----------+-------+-------+-------+-------+-------+-------+\n"
     ]
    },
    {
     "name": "stderr",
     "output_type": "stream",
     "text": [
      "Calculating descritptors...: 100%|████████████████████████████████████████████████████████████████████████████████████████████████████████████| 38/38 [00:07<00:00,  5.27it/s]\n"
     ]
    },
    {
     "name": "stdout",
     "output_type": "stream",
     "text": [
      "\n",
      "+----------------------------------------------------------+\n",
      "|                   Performances on SPED                   |\n",
      "+----------+-------+-------+-------+-------+-------+-------+\n",
      "|    K     |   1   |   5   |   10  |   15  |   20  |   25  |\n",
      "+----------+-------+-------+-------+-------+-------+-------+\n",
      "| Recall@K | 92.09 | 96.05 | 96.38 | 97.03 | 97.53 | 97.69 |\n",
      "+----------+-------+-------+-------+-------+-------+-------+\n"
     ]
    },
    {
     "data": {
      "text/plain": [
       "{'pitts30k_test': {1: 0.9237089201877934,\n",
       "  5: 0.963174882629108,\n",
       "  10: 0.9737382629107981,\n",
       "  15: 0.9778462441314554,\n",
       "  20: 0.9806338028169014,\n",
       "  25: 0.9838615023474179},\n",
       " 'pitts250k_test': {1: 0.9509661835748793,\n",
       "  5: 0.9858695652173913,\n",
       "  10: 0.9917874396135266,\n",
       "  15: 0.9942028985507246,\n",
       "  20: 0.9954106280193237,\n",
       "  25: 0.9964975845410629},\n",
       " 'Nordland': {1: 0.7652173913043478,\n",
       "  5: 0.8931159420289855,\n",
       "  10: 0.9199275362318841,\n",
       "  15: 0.9347826086956522,\n",
       "  20: 0.9431159420289855,\n",
       "  25: 0.9478260869565217},\n",
       " 'SPED': {1: 0.9209225700164745,\n",
       "  5: 0.9604612850082372,\n",
       "  10: 0.9637561779242174,\n",
       "  15: 0.9703459637561779,\n",
       "  20: 0.9752883031301482,\n",
       "  25: 0.9769357495881383}}"
      ]
     },
     "execution_count": 9,
     "metadata": {},
     "output_type": "execute_result"
    }
   ],
   "source": [
    "model_eval(\n",
    "    dino_salad,\n",
    "    img_size = 322,\n",
    "    mean_std = 'imagenet',\n",
    "    crop = False,\n",
    "    val_datasets = val_datasets,\n",
    "    verbose = False\n",
    ")"
   ]
  },
  {
   "cell_type": "code",
   "execution_count": null,
   "id": "ad750010-44af-4c19-8030-9deda421b95e",
   "metadata": {},
   "outputs": [],
   "source": []
  }
 ],
 "metadata": {
  "kernelspec": {
   "display_name": "Python 3 (ipykernel)",
   "language": "python",
   "name": "python3"
  },
  "language_info": {
   "codemirror_mode": {
    "name": "ipython",
    "version": 3
   },
   "file_extension": ".py",
   "mimetype": "text/x-python",
   "name": "python",
   "nbconvert_exporter": "python",
   "pygments_lexer": "ipython3",
   "version": "3.10.18"
  }
 },
 "nbformat": 4,
 "nbformat_minor": 5
}
