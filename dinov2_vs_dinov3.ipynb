{
 "cells": [
  {
   "cell_type": "code",
   "execution_count": 1,
   "id": "a65727e8-50a7-43d4-8452-086b113af9d2",
   "metadata": {},
   "outputs": [],
   "source": [
    "from eval import model_eval\n",
    "from vpr import models\n",
    "\n",
    "val_datasets = ['pitts30k_test', 'Nordland', 'SPED'] "
   ]
  },
  {
   "cell_type": "markdown",
   "id": "95dd92b6-0b08-450e-b4be-61b8d6e5ed77",
   "metadata": {},
   "source": [
    "## ViT Base"
   ]
  },
  {
   "cell_type": "markdown",
   "id": "142ba62e-3ff7-4ded-81cd-6c2991f31647",
   "metadata": {},
   "source": [
    "### Vanilla DINOv2 ViT Base"
   ]
  },
  {
   "cell_type": "code",
   "execution_count": 2,
   "id": "e5279d3f-f389-46f2-ab1c-e09409eed8d9",
   "metadata": {},
   "outputs": [
    {
     "name": "stderr",
     "output_type": "stream",
     "text": [
      "Using cache found in /home/emmanuel/.cache/torch/hub/facebookresearch_dinov2_main\n",
      "/home/emmanuel/.cache/torch/hub/facebookresearch_dinov2_main/dinov2/layers/swiglu_ffn.py:43: UserWarning: xFormers is available (SwiGLU)\n",
      "  warnings.warn(\"xFormers is available (SwiGLU)\")\n",
      "/home/emmanuel/.cache/torch/hub/facebookresearch_dinov2_main/dinov2/layers/attention.py:27: UserWarning: xFormers is available (Attention)\n",
      "  warnings.warn(\"xFormers is available (Attention)\")\n",
      "/home/emmanuel/.cache/torch/hub/facebookresearch_dinov2_main/dinov2/layers/block.py:33: UserWarning: xFormers is available (Block)\n",
      "  warnings.warn(\"xFormers is available (Block)\")\n"
     ]
    }
   ],
   "source": [
    "dinov2 = models.DinoV2.ViTBase()"
   ]
  },
  {
   "cell_type": "code",
   "execution_count": 3,
   "id": "51d9b0b9-5080-4025-97b8-961b67972ab8",
   "metadata": {},
   "outputs": [
    {
     "name": "stdout",
     "output_type": "stream",
     "text": [
      "----------------------------------------------------------------------------------------------------\n",
      "322\n"
     ]
    },
    {
     "name": "stderr",
     "output_type": "stream",
     "text": [
      "Calculating descritptors...: 100%|██████████████████████████████████████████████████████████████████████████████████████████████████| 526/526 [02:04<00:00,  4.22it/s]\n",
      "/home/emmanuel/miniconda3/envs/salad_3/lib/python3.10/site-packages/faiss/contrib/torch_utils.py:51: UserWarning: TypedStorage is deprecated. It will be removed in the future and UntypedStorage will be the only storage class. This should only matter to you if you are using storages directly.  To access UntypedStorage directly, use tensor.untyped_storage() instead of tensor.storage()\n",
      "  x.storage().data_ptr() + x.storage_offset() * 4)\n"
     ]
    },
    {
     "name": "stdout",
     "output_type": "stream",
     "text": [
      "\n",
      "+----------------------------------------------------------+\n",
      "|              Performances on pitts30k_test               |\n",
      "+----------+-------+-------+-------+-------+-------+-------+\n",
      "|    K     |   1   |   5   |   10  |   15  |   20  |   25  |\n",
      "+----------+-------+-------+-------+-------+-------+-------+\n",
      "| Recall@K | 76.76 | 91.27 | 94.89 | 96.43 | 97.10 | 97.51 |\n",
      "+----------+-------+-------+-------+-------+-------+-------+\n"
     ]
    },
    {
     "name": "stderr",
     "output_type": "stream",
     "text": [
      "Calculating descritptors...: 100%|██████████████████████████████████████████████████████████████████████████████████████████████████| 949/949 [02:05<00:00,  7.56it/s]\n"
     ]
    },
    {
     "name": "stdout",
     "output_type": "stream",
     "text": [
      "\n",
      "+-------------------------------------------------------+\n",
      "|                Performances on Nordland               |\n",
      "+----------+------+------+------+-------+-------+-------+\n",
      "|    K     |  1   |  5   |  10  |   15  |   20  |   25  |\n",
      "+----------+------+------+------+-------+-------+-------+\n",
      "| Recall@K | 4.13 | 7.97 | 9.42 | 10.83 | 11.38 | 12.14 |\n",
      "+----------+------+------+------+-------+-------+-------+\n"
     ]
    },
    {
     "name": "stderr",
     "output_type": "stream",
     "text": [
      "Calculating descritptors...: 100%|████████████████████████████████████████████████████████████████████████████████████████████████████| 38/38 [00:05<00:00,  6.58it/s]"
     ]
    },
    {
     "name": "stdout",
     "output_type": "stream",
     "text": [
      "\n",
      "+----------------------------------------------------------+\n",
      "|                   Performances on SPED                   |\n",
      "+----------+-------+-------+-------+-------+-------+-------+\n",
      "|    K     |   1   |   5   |   10  |   15  |   20  |   25  |\n",
      "+----------+-------+-------+-------+-------+-------+-------+\n",
      "| Recall@K | 61.29 | 80.23 | 85.50 | 88.63 | 90.44 | 91.76 |\n",
      "+----------+-------+-------+-------+-------+-------+-------+\n"
     ]
    },
    {
     "name": "stderr",
     "output_type": "stream",
     "text": [
      "\n"
     ]
    },
    {
     "data": {
      "text/plain": [
       "{'pitts30k_test': {1: 0.7676056338028169,\n",
       "  5: 0.9127053990610329,\n",
       "  10: 0.948943661971831,\n",
       "  15: 0.9643485915492958,\n",
       "  20: 0.9709507042253521,\n",
       "  25: 0.9750586854460094},\n",
       " 'Nordland': {1: 0.041304347826086954,\n",
       "  5: 0.07971014492753623,\n",
       "  10: 0.09420289855072464,\n",
       "  15: 0.10833333333333334,\n",
       "  20: 0.11376811594202899,\n",
       "  25: 0.1213768115942029},\n",
       " 'SPED': {1: 0.6128500823723229,\n",
       "  5: 0.8023064250411862,\n",
       "  10: 0.8550247116968699,\n",
       "  15: 0.886326194398682,\n",
       "  20: 0.9044481054365733,\n",
       "  25: 0.9176276771004942}}"
      ]
     },
     "execution_count": 3,
     "metadata": {},
     "output_type": "execute_result"
    }
   ],
   "source": [
    "model_eval(\n",
    "    dinov2,\n",
    "    img_size = 322,\n",
    "    mean_std = 'imagenet',\n",
    "    crop = False,\n",
    "    val_datasets = val_datasets,\n",
    "    verbose = False\n",
    ")"
   ]
  },
  {
   "cell_type": "code",
   "execution_count": 4,
   "id": "567d1b54-2f22-4974-9078-e6cefe87ab67",
   "metadata": {},
   "outputs": [],
   "source": [
    "dinov3 = models.DinoV3.ViTBase()"
   ]
  },
  {
   "cell_type": "markdown",
   "id": "68413710-cd6e-4656-ae65-3a6214af5bd2",
   "metadata": {},
   "source": [
    "### Vanilla DINOv3 ViT Base"
   ]
  },
  {
   "cell_type": "code",
   "execution_count": 5,
   "id": "ffd24c1c-2bcc-4990-a3cf-3fd0175cf098",
   "metadata": {},
   "outputs": [
    {
     "name": "stdout",
     "output_type": "stream",
     "text": [
      "----------------------------------------------------------------------------------------------------\n",
      "368\n"
     ]
    },
    {
     "name": "stderr",
     "output_type": "stream",
     "text": [
      "Calculating descritptors...: 100%|██████████████████████████████████████████████████████████████████████████████████████████████████| 526/526 [02:58<00:00,  2.95it/s]\n"
     ]
    },
    {
     "name": "stdout",
     "output_type": "stream",
     "text": [
      "\n",
      "+----------------------------------------------------------+\n",
      "|              Performances on pitts30k_test               |\n",
      "+----------+-------+-------+-------+-------+-------+-------+\n",
      "|    K     |   1   |   5   |   10  |   15  |   20  |   25  |\n",
      "+----------+-------+-------+-------+-------+-------+-------+\n",
      "| Recall@K | 83.33 | 93.37 | 95.70 | 96.67 | 97.42 | 97.81 |\n",
      "+----------+-------+-------+-------+-------+-------+-------+\n"
     ]
    },
    {
     "name": "stderr",
     "output_type": "stream",
     "text": [
      "Calculating descritptors...: 100%|██████████████████████████████████████████████████████████████████████████████████████████████████| 949/949 [07:36<00:00,  2.08it/s]\n"
     ]
    },
    {
     "name": "stdout",
     "output_type": "stream",
     "text": [
      "\n",
      "+---------------------------------------------------------+\n",
      "|                 Performances on Nordland                |\n",
      "+----------+------+-------+-------+-------+-------+-------+\n",
      "|    K     |  1   |   5   |   10  |   15  |   20  |   25  |\n",
      "+----------+------+-------+-------+-------+-------+-------+\n",
      "| Recall@K | 9.64 | 18.55 | 22.46 | 24.96 | 26.88 | 28.59 |\n",
      "+----------+------+-------+-------+-------+-------+-------+\n"
     ]
    },
    {
     "name": "stderr",
     "output_type": "stream",
     "text": [
      "Calculating descritptors...: 100%|████████████████████████████████████████████████████████████████████████████████████████████████████| 38/38 [00:17<00:00,  2.12it/s]"
     ]
    },
    {
     "name": "stdout",
     "output_type": "stream",
     "text": [
      "\n",
      "+----------------------------------------------------------+\n",
      "|                   Performances on SPED                   |\n",
      "+----------+-------+-------+-------+-------+-------+-------+\n",
      "|    K     |   1   |   5   |   10  |   15  |   20  |   25  |\n",
      "+----------+-------+-------+-------+-------+-------+-------+\n",
      "| Recall@K | 74.14 | 87.97 | 89.79 | 91.60 | 92.75 | 93.57 |\n",
      "+----------+-------+-------+-------+-------+-------+-------+\n"
     ]
    },
    {
     "name": "stderr",
     "output_type": "stream",
     "text": [
      "\n"
     ]
    },
    {
     "data": {
      "text/plain": [
       "{'pitts30k_test': {1: 0.8333333333333334,\n",
       "  5: 0.9336854460093896,\n",
       "  10: 0.9570129107981221,\n",
       "  15: 0.9666960093896714,\n",
       "  20: 0.9741784037558685,\n",
       "  25: 0.9781396713615024},\n",
       " 'Nordland': {1: 0.0963768115942029,\n",
       "  5: 0.1855072463768116,\n",
       "  10: 0.2246376811594203,\n",
       "  15: 0.24963768115942028,\n",
       "  20: 0.2688405797101449,\n",
       "  25: 0.2858695652173913},\n",
       " 'SPED': {1: 0.7413509060955519,\n",
       "  5: 0.8797364085667215,\n",
       "  10: 0.8978583196046128,\n",
       "  15: 0.9159802306425041,\n",
       "  20: 0.9275123558484349,\n",
       "  25: 0.9357495881383855}}"
      ]
     },
     "execution_count": 5,
     "metadata": {},
     "output_type": "execute_result"
    }
   ],
   "source": [
    "model_eval(\n",
    "    dinov3,\n",
    "    img_size = 368,\n",
    "    mean_std = 'imagenet',\n",
    "    crop = False,\n",
    "    val_datasets = val_datasets,\n",
    "    verbose = False\n",
    ")"
   ]
  },
  {
   "cell_type": "markdown",
   "id": "6c0d67f7-e90f-49fb-9d92-9d3193a82eef",
   "metadata": {},
   "source": [
    "## ViT Large"
   ]
  },
  {
   "cell_type": "markdown",
   "id": "55ca49bd-8ed1-4a9d-b0e4-970ff4145cf5",
   "metadata": {},
   "source": [
    "### Vanilla DINOv2 ViT Large"
   ]
  },
  {
   "cell_type": "code",
   "execution_count": 7,
   "id": "e78be9a3-86b5-4546-a965-0f625b80b472",
   "metadata": {},
   "outputs": [
    {
     "name": "stderr",
     "output_type": "stream",
     "text": [
      "Using cache found in /home/emmanuel/.cache/torch/hub/facebookresearch_dinov2_main\n"
     ]
    },
    {
     "name": "stdout",
     "output_type": "stream",
     "text": [
      "Downloading: \"https://dl.fbaipublicfiles.com/dinov2/dinov2_vitl14/dinov2_vitl14_pretrain.pth\" to /home/emmanuel/.cache/torch/hub/checkpoints/dinov2_vitl14_pretrain.pth\n"
     ]
    },
    {
     "name": "stderr",
     "output_type": "stream",
     "text": [
      "100%|████████████████████████████████████████████████████████████████████████████████████████████████████████████████████████████| 1.13G/1.13G [01:46<00:00, 11.4MB/s]\n"
     ]
    }
   ],
   "source": [
    "dinov2_large = models.DinoV2.ViTLarge()"
   ]
  },
  {
   "cell_type": "code",
   "execution_count": 8,
   "id": "5f21c9f5-a638-41f1-99c7-452ed42c851b",
   "metadata": {},
   "outputs": [
    {
     "name": "stdout",
     "output_type": "stream",
     "text": [
      "----------------------------------------------------------------------------------------------------\n",
      "322\n"
     ]
    },
    {
     "name": "stderr",
     "output_type": "stream",
     "text": [
      "Calculating descritptors...: 100%|██████████████████████████████████████████████████████████████████████████████████████████████████| 526/526 [03:00<00:00,  2.92it/s]\n"
     ]
    },
    {
     "name": "stdout",
     "output_type": "stream",
     "text": [
      "\n",
      "+----------------------------------------------------------+\n",
      "|              Performances on pitts30k_test               |\n",
      "+----------+-------+-------+-------+-------+-------+-------+\n",
      "|    K     |   1   |   5   |   10  |   15  |   20  |   25  |\n",
      "+----------+-------+-------+-------+-------+-------+-------+\n",
      "| Recall@K | 78.57 | 91.83 | 94.88 | 96.54 | 97.43 | 97.93 |\n",
      "+----------+-------+-------+-------+-------+-------+-------+\n"
     ]
    },
    {
     "name": "stderr",
     "output_type": "stream",
     "text": [
      "Calculating descritptors...: 100%|██████████████████████████████████████████████████████████████████████████████████████████████████| 949/949 [05:23<00:00,  2.94it/s]\n"
     ]
    },
    {
     "name": "stdout",
     "output_type": "stream",
     "text": [
      "\n",
      "+--------------------------------------------------------+\n",
      "|                Performances on Nordland                |\n",
      "+----------+------+------+-------+-------+-------+-------+\n",
      "|    K     |  1   |  5   |   10  |   15  |   20  |   25  |\n",
      "+----------+------+------+-------+-------+-------+-------+\n",
      "| Recall@K | 4.71 | 8.41 | 10.40 | 11.74 | 12.79 | 13.73 |\n",
      "+----------+------+------+-------+-------+-------+-------+\n"
     ]
    },
    {
     "name": "stderr",
     "output_type": "stream",
     "text": [
      "Calculating descritptors...: 100%|████████████████████████████████████████████████████████████████████████████████████████████████████| 38/38 [00:14<00:00,  2.67it/s]"
     ]
    },
    {
     "name": "stdout",
     "output_type": "stream",
     "text": [
      "\n",
      "+----------------------------------------------------------+\n",
      "|                   Performances on SPED                   |\n",
      "+----------+-------+-------+-------+-------+-------+-------+\n",
      "|    K     |   1   |   5   |   10  |   15  |   20  |   25  |\n",
      "+----------+-------+-------+-------+-------+-------+-------+\n",
      "| Recall@K | 68.04 | 83.03 | 86.99 | 90.12 | 91.60 | 92.42 |\n",
      "+----------+-------+-------+-------+-------+-------+-------+\n"
     ]
    },
    {
     "name": "stderr",
     "output_type": "stream",
     "text": [
      "\n"
     ]
    },
    {
     "data": {
      "text/plain": [
       "{'pitts30k_test': {1: 0.7856514084507042,\n",
       "  5: 0.9182805164319249,\n",
       "  10: 0.9487969483568075,\n",
       "  15: 0.9653755868544601,\n",
       "  20: 0.974325117370892,\n",
       "  25: 0.9793133802816901},\n",
       " 'Nordland': {1: 0.04710144927536232,\n",
       "  5: 0.08405797101449275,\n",
       "  10: 0.10398550724637681,\n",
       "  15: 0.11739130434782609,\n",
       "  20: 0.12789855072463768,\n",
       "  25: 0.13731884057971014},\n",
       " 'SPED': {1: 0.6803953871499177,\n",
       "  5: 0.8303130148270181,\n",
       "  10: 0.8698517298187809,\n",
       "  15: 0.9011532125205931,\n",
       "  20: 0.9159802306425041,\n",
       "  25: 0.9242174629324547}}"
      ]
     },
     "execution_count": 8,
     "metadata": {},
     "output_type": "execute_result"
    }
   ],
   "source": [
    "model_eval(\n",
    "    dinov2_large,\n",
    "    img_size = 322,\n",
    "    mean_std = 'imagenet',\n",
    "    crop = False,\n",
    "    val_datasets = val_datasets,\n",
    "    verbose = False\n",
    ")"
   ]
  },
  {
   "cell_type": "markdown",
   "id": "29c118d9-1ecc-4b21-bd92-57e0c1003efe",
   "metadata": {},
   "source": [
    "### Vanilla DINOv3 ViT Large"
   ]
  },
  {
   "cell_type": "code",
   "execution_count": 2,
   "id": "910d298a-4a1b-407b-bb31-aa90bc27c048",
   "metadata": {},
   "outputs": [
    {
     "name": "stdout",
     "output_type": "stream",
     "text": [
      "Downloading: \"https://dinov3.llamameta.net/dinov3_vitl16/dinov3_vitl16_pretrain_lvd1689m-8aa4cbdd.pth?Policy=eyJTdGF0ZW1lbnQiOlt7InVuaXF1ZV9oYXNoIjoiY2JjemhhMjg4OGVuanN3aTBxcGpxNmdtIiwiUmVzb3VyY2UiOiJodHRwczpcL1wvZGlub3YzLmxsYW1hbWV0YS5uZXRcLyoiLCJDb25kaXRpb24iOnsiRGF0ZUxlc3NUaGFuIjp7IkFXUzpFcG9jaFRpbWUiOjE3NTg2NjA5Njl9fX1dfQ__&Signature=VBRqTZmwkm9lrPLYyuAVO3g%7E2jMN4uRaw3yXZLx6OExXL5L7qrqnmcahe2RPs2SpiG0YxEXsoVBS20ayZizwpwyybMs6Hp-f2ytL5BfE1ssmoprUYw1QzGw4NCmX3a6DMRHz0%7Erc-gJmi%7E54eYXNV97sFeq419NmPGxtgSr5qHsy36K9tGCaixi9sJSwOMEZAopyLO542%7EMi5qyTLHCwe6NSQ4tBOBHxEvqTuhgCFYxPwG8t2V6hrBNaQ5u6-%7Eci0why14DvepGoWc-JYMfEo288SqusmwaeFEVnC9e1vcdNeiC49nnGxI1V3O7bwqrqxZXxIGS4NxnJZ3JJqGZgmQ__&Key-Pair-Id=K15QRJLYKIFSLZ&Download-Request-ID=2448787738849110\" to /home/emmanuel/.cache/torch/hub/checkpoints/dinov3_vitl16_pretrain_lvd1689m-8aa4cbdd.pth\n"
     ]
    },
    {
     "name": "stderr",
     "output_type": "stream",
     "text": [
      "100%|████████████████████████████████████████████████████████████████████████████████████████████████████████████████████████████| 1.13G/1.13G [02:05<00:00, 9.66MB/s]\n"
     ]
    }
   ],
   "source": [
    "dinov3_large = models.DinoV3.ViTLarge()"
   ]
  },
  {
   "cell_type": "code",
   "execution_count": 3,
   "id": "fdd06cc3-903c-4fc9-8de8-7aab07c055f2",
   "metadata": {},
   "outputs": [
    {
     "name": "stdout",
     "output_type": "stream",
     "text": [
      "----------------------------------------------------------------------------------------------------\n",
      "368\n"
     ]
    },
    {
     "name": "stderr",
     "output_type": "stream",
     "text": [
      "Calculating descritptors...: 100%|██████████████████████████████████████████████████████████████████████████████████████████████████| 526/526 [04:20<00:00,  2.02it/s]\n",
      "/home/emmanuel/miniconda3/envs/salad_3/lib/python3.10/site-packages/faiss/contrib/torch_utils.py:51: UserWarning: TypedStorage is deprecated. It will be removed in the future and UntypedStorage will be the only storage class. This should only matter to you if you are using storages directly.  To access UntypedStorage directly, use tensor.untyped_storage() instead of tensor.storage()\n",
      "  x.storage().data_ptr() + x.storage_offset() * 4)\n"
     ]
    },
    {
     "name": "stdout",
     "output_type": "stream",
     "text": [
      "\n",
      "+----------------------------------------------------------+\n",
      "|              Performances on pitts30k_test               |\n",
      "+----------+-------+-------+-------+-------+-------+-------+\n",
      "|    K     |   1   |   5   |   10  |   15  |   20  |   25  |\n",
      "+----------+-------+-------+-------+-------+-------+-------+\n",
      "| Recall@K | 80.08 | 92.72 | 95.42 | 96.64 | 97.27 | 97.67 |\n",
      "+----------+-------+-------+-------+-------+-------+-------+\n"
     ]
    },
    {
     "name": "stderr",
     "output_type": "stream",
     "text": [
      "Calculating descritptors...: 100%|██████████████████████████████████████████████████████████████████████████████████████████████████| 949/949 [07:43<00:00,  2.05it/s]\n"
     ]
    },
    {
     "name": "stdout",
     "output_type": "stream",
     "text": [
      "\n",
      "+----------------------------------------------------------+\n",
      "|                 Performances on Nordland                 |\n",
      "+----------+-------+-------+-------+-------+-------+-------+\n",
      "|    K     |   1   |   5   |   10  |   15  |   20  |   25  |\n",
      "+----------+-------+-------+-------+-------+-------+-------+\n",
      "| Recall@K | 12.72 | 23.33 | 28.33 | 31.34 | 34.06 | 35.80 |\n",
      "+----------+-------+-------+-------+-------+-------+-------+\n"
     ]
    },
    {
     "name": "stderr",
     "output_type": "stream",
     "text": [
      "Calculating descritptors...: 100%|████████████████████████████████████████████████████████████████████████████████████████████████████| 38/38 [00:20<00:00,  1.88it/s]"
     ]
    },
    {
     "name": "stdout",
     "output_type": "stream",
     "text": [
      "\n",
      "+----------------------------------------------------------+\n",
      "|                   Performances on SPED                   |\n",
      "+----------+-------+-------+-------+-------+-------+-------+\n",
      "|    K     |   1   |   5   |   10  |   15  |   20  |   25  |\n",
      "+----------+-------+-------+-------+-------+-------+-------+\n",
      "| Recall@K | 76.61 | 88.47 | 92.26 | 92.92 | 94.23 | 94.89 |\n",
      "+----------+-------+-------+-------+-------+-------+-------+\n"
     ]
    },
    {
     "name": "stderr",
     "output_type": "stream",
     "text": [
      "\n"
     ]
    },
    {
     "data": {
      "text/plain": [
       "{'pitts30k_test': {1: 0.8007629107981221,\n",
       "  5: 0.9272300469483568,\n",
       "  10: 0.954225352112676,\n",
       "  15: 0.9664025821596244,\n",
       "  20: 0.9727112676056338,\n",
       "  25: 0.9766725352112676},\n",
       " 'Nordland': {1: 0.12717391304347825,\n",
       "  5: 0.23333333333333334,\n",
       "  10: 0.2833333333333333,\n",
       "  15: 0.3134057971014493,\n",
       "  20: 0.34057971014492755,\n",
       "  25: 0.35797101449275365},\n",
       " 'SPED': {1: 0.7660626029654036,\n",
       "  5: 0.8846787479406919,\n",
       "  10: 0.9225700164744646,\n",
       "  15: 0.929159802306425,\n",
       "  20: 0.942339373970346,\n",
       "  25: 0.9489291598023064}}"
      ]
     },
     "execution_count": 3,
     "metadata": {},
     "output_type": "execute_result"
    }
   ],
   "source": [
    "model_eval(\n",
    "    dinov3_large,\n",
    "    img_size = 368,\n",
    "    mean_std = 'imagenet',\n",
    "    crop = False,\n",
    "    val_datasets = val_datasets,\n",
    "    verbose = False\n",
    ")"
   ]
  },
  {
   "cell_type": "code",
   "execution_count": null,
   "id": "6359732a-0891-40c1-8303-d1053662efae",
   "metadata": {},
   "outputs": [],
   "source": []
  }
 ],
 "metadata": {
  "kernelspec": {
   "display_name": "Python 3 (ipykernel)",
   "language": "python",
   "name": "python3"
  },
  "language_info": {
   "codemirror_mode": {
    "name": "ipython",
    "version": 3
   },
   "file_extension": ".py",
   "mimetype": "text/x-python",
   "name": "python",
   "nbconvert_exporter": "python",
   "pygments_lexer": "ipython3",
   "version": "3.10.18"
  }
 },
 "nbformat": 4,
 "nbformat_minor": 5
}
